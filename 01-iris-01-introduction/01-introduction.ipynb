{
 "cells": [
  {
   "cell_type": "markdown",
   "metadata": {},
   "source": [
    "# Introduction to Interactive Programming\n",
    "\n",
    "> Interactive computing is a dialog between people and machines.\n",
    "          — [Beki Grinter](https://beki70.wordpress.com/2011/01/27/what-is-interactive-computing/)\n",
    "\n",
    "## Jupyter\n",
    "\n",
    "Jupyter is:\n",
    "\n",
    "- a web-based interactive application\n",
    "- an interactive code interpreter\n",
    "- a presentation environment\n",
    "- a new paradigm in programming\n",
    "- a way to save complex terminal sessions.\n",
    "\n",
    "Jupyter is fundamentally changing the way we write code.\n",
    "\n",
    "Jupyter replaces if [`__name__ == \"__main__\"`](http://ibiblio.org/g2swap/byteofpython/read/module-name.html):.\n",
    "\n",
    "### Implicit Call to Display\n",
    "\n",
    "The output of the last line in a Jupyter cell will be implicitly displayed by the Jupyter Notebook.\n",
    "\n",
    "Try the following (Type the strings as you see them, one per line) in a Jupyter Notebook cell:"
   ]
  },
  {
   "cell_type": "code",
   "execution_count": 3,
   "metadata": {},
   "outputs": [
    {
     "data": {
      "text/plain": [
       "'Hello, World!'"
      ]
     },
     "execution_count": 3,
     "metadata": {},
     "output_type": "execute_result"
    }
   ],
   "source": [
    "\"Hello, World!\""
   ]
  },
  {
   "cell_type": "markdown",
   "metadata": {},
   "source": [
    "Hit `CMD+Enter` to execute the cell.\n"
   ]
  },
  {
   "cell_type": "markdown",
   "metadata": {},
   "source": [
    "Now enter this in a new cell."
   ]
  },
  {
   "cell_type": "code",
   "execution_count": 4,
   "metadata": {},
   "outputs": [],
   "source": [
    "from IPython.display import display"
   ]
  },
  {
   "cell_type": "markdown",
   "metadata": {},
   "source": [
    "And this:"
   ]
  },
  {
   "cell_type": "code",
   "execution_count": 5,
   "metadata": {},
   "outputs": [
    {
     "data": {
      "text/plain": [
       "'Hello, my ragtime gal!'"
      ]
     },
     "execution_count": 5,
     "metadata": {},
     "output_type": "execute_result"
    }
   ],
   "source": [
    "\"Hello, my baby!\"\n",
    "\"Hello, my honey!\"\n",
    "\"Hello, my ragtime gal!\""
   ]
  },
  {
   "cell_type": "code",
   "execution_count": 6,
   "metadata": {},
   "outputs": [
    {
     "data": {
      "text/plain": [
       "'Hello, my baby!'"
      ]
     },
     "metadata": {},
     "output_type": "display_data"
    },
    {
     "data": {
      "text/plain": [
       "'Hello, my honey!'"
      ]
     },
     "metadata": {},
     "output_type": "display_data"
    },
    {
     "data": {
      "text/plain": [
       "'Hello, my ragtime gal!'"
      ]
     },
     "metadata": {},
     "output_type": "display_data"
    }
   ],
   "source": [
    "display(\"Hello, my baby!\")\n",
    "display(\"Hello, my honey!\")\n",
    "display(\"Hello, my ragtime gal!\")"
   ]
  },
  {
   "cell_type": "markdown",
   "metadata": {},
   "source": [
    "Only the last string within the quotes gets displayed, whereas, with the display function all the strings are displayed\n"
   ]
  },
  {
   "cell_type": "markdown",
   "metadata": {},
   "source": [
    "## IPython\n",
    "\n",
    "IPython is short for interactive Python and is an highly-evolved Python\n",
    "REPL (read-eval-print loop) with a set of tools for interacting with any\n",
    "and all Python libraries.\n",
    "\n",
    "**Note** Be careful not to confuse IPython, the command\n",
    "line REPL, and IPython Notebook, the legacy notebook server that has\n",
    "evolved into Jupyter.\n",
    "\n",
    "When an IPython session is terminated all interactions are lost.\n",
    "\n",
    "## Jupyter as Persistent Interactive Computing\n",
    "\n",
    "- Jupyter Notebooks are the evolution of IPython.\n",
    "- Jupyter allows users to combine live code, markdown and latex-rich text, images, plots, and more in a single document.\n",
    "- Jupyter is the successor to the IPython notebook, Jupyter was renamed as the platform began to support other software kernels, in particular **Ju**lia, **Pyt**hon,  and **R**.\n",
    "\n",
    "Jupyter notebooks are saved as JSON files and at their most basic level are IPython sessions that can be repeatedly run.\n",
    "\n",
    "## How to Program Interactively"
   ]
  },
  {
   "cell_type": "markdown",
   "metadata": {},
   "source": [
    "Define a variable `my_integer` that is equal to 5."
   ]
  },
  {
   "cell_type": "code",
   "execution_count": 7,
   "metadata": {
    "deletable": false,
    "nbgrader": {
     "checksum": "3ab5eaf8e886a2cacce03ee4d871fc2f",
     "grade": false,
     "grade_id": "cell-e0ebbeea81134135",
     "locked": false,
     "schema_version": 1,
     "solution": true
    }
   },
   "outputs": [],
   "source": [
    "my_integer = 5\n"
   ]
  },
  {
   "cell_type": "code",
   "execution_count": 8,
   "metadata": {
    "deletable": false,
    "editable": false,
    "nbgrader": {
     "checksum": "ea8fc637a77f4625cbc6fdd6c63f430b",
     "grade": true,
     "grade_id": "cell-bd6910bb0e082103",
     "locked": true,
     "points": 1,
     "schema_version": 1,
     "solution": false
    }
   },
   "outputs": [],
   "source": [
    "# THAR BE SECRETE TESTS HERE\n"
   ]
  },
  {
   "cell_type": "markdown",
   "metadata": {},
   "source": [
    "Redefine `my_integer` to be equal to 23."
   ]
  },
  {
   "cell_type": "code",
   "execution_count": 9,
   "metadata": {
    "deletable": false,
    "nbgrader": {
     "checksum": "09ea57fc2b05f997c08bfee99ca86dd5",
     "grade": false,
     "grade_id": "cell-6a26e69c2aaa66b0",
     "locked": false,
     "schema_version": 1,
     "solution": true
    }
   },
   "outputs": [
    {
     "name": "stdout",
     "output_type": "stream",
     "text": [
      "23\n"
     ]
    }
   ],
   "source": [
    "my_integer = 23\n",
    "print(my_integer)"
   ]
  },
  {
   "cell_type": "code",
   "execution_count": 10,
   "metadata": {
    "deletable": false,
    "editable": false,
    "nbgrader": {
     "checksum": "7805c122e4cc460cf9b6b728aad278bf",
     "grade": true,
     "grade_id": "cell-db402980bc851ba0",
     "locked": true,
     "points": 1,
     "schema_version": 1,
     "solution": false
    }
   },
   "outputs": [],
   "source": [
    "# THAR BE SECRETE TESTS HERE\n"
   ]
  }
 ],
 "metadata": {
  "kernelspec": {
   "display_name": "Python 3",
   "language": "python",
   "name": "python3"
  },
  "language_info": {
   "codemirror_mode": {
    "name": "ipython",
    "version": 3
   },
   "file_extension": ".py",
   "mimetype": "text/x-python",
   "name": "python",
   "nbconvert_exporter": "python",
   "pygments_lexer": "ipython3",
   "version": "3.6.4"
  }
 },
 "nbformat": 4,
 "nbformat_minor": 2
}
